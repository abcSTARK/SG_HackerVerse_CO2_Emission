{
 "cells": [
  {
   "cell_type": "code",
   "execution_count": 3,
   "id": "b4877f9b-3269-4d73-997b-6612b7c979da",
   "metadata": {},
   "outputs": [],
   "source": [
    "import numpy as np # linear algebra\n",
    "import pandas as pd # data processing, CSV file I/O (e.g. pd.read_csv)"
   ]
  },
  {
   "cell_type": "code",
   "execution_count": 7,
   "id": "3f7cff27-1b3c-4127-b9dd-e0fe2d2148ea",
   "metadata": {},
   "outputs": [],
   "source": [
    "df = pd.DataFrame()\n",
    "df = pd.read_excel('/Users/abcstark/Downloads/New_dataset.xlsx')"
   ]
  },
  {
   "cell_type": "code",
   "execution_count": 8,
   "id": "a3453be4-dc80-44c0-93a1-610a995ae219",
   "metadata": {},
   "outputs": [
    {
     "data": {
      "text/html": [
       "<div>\n",
       "<style scoped>\n",
       "    .dataframe tbody tr th:only-of-type {\n",
       "        vertical-align: middle;\n",
       "    }\n",
       "\n",
       "    .dataframe tbody tr th {\n",
       "        vertical-align: top;\n",
       "    }\n",
       "\n",
       "    .dataframe thead th {\n",
       "        text-align: right;\n",
       "    }\n",
       "</style>\n",
       "<table border=\"1\" class=\"dataframe\">\n",
       "  <thead>\n",
       "    <tr style=\"text-align: right;\">\n",
       "      <th></th>\n",
       "      <th>Unnamed: 0</th>\n",
       "      <th>card_id</th>\n",
       "      <th>city_id</th>\n",
       "      <th>merchant_category_id</th>\n",
       "      <th>merchant_id</th>\n",
       "      <th>purchase_amount</th>\n",
       "      <th>purchase_date</th>\n",
       "      <th>state_id</th>\n",
       "      <th>subsector_id</th>\n",
       "      <th>currency</th>\n",
       "    </tr>\n",
       "  </thead>\n",
       "  <tbody>\n",
       "    <tr>\n",
       "      <th>0</th>\n",
       "      <td>0</td>\n",
       "      <td>C_ID_415bb3a509</td>\n",
       "      <td>107</td>\n",
       "      <td>3662</td>\n",
       "      <td>M_ID_b0c793002c</td>\n",
       "      <td>191</td>\n",
       "      <td>2018-03-11 14:57:36</td>\n",
       "      <td>9</td>\n",
       "      <td>19</td>\n",
       "      <td>CHF</td>\n",
       "    </tr>\n",
       "    <tr>\n",
       "      <th>1</th>\n",
       "      <td>1</td>\n",
       "      <td>C_ID_415bb3a509</td>\n",
       "      <td>140</td>\n",
       "      <td>3843</td>\n",
       "      <td>M_ID_88920c89e8</td>\n",
       "      <td>181</td>\n",
       "      <td>2018-03-19 18:53:37</td>\n",
       "      <td>9</td>\n",
       "      <td>19</td>\n",
       "      <td>RUB</td>\n",
       "    </tr>\n",
       "    <tr>\n",
       "      <th>2</th>\n",
       "      <td>2</td>\n",
       "      <td>C_ID_415bb3a509</td>\n",
       "      <td>330</td>\n",
       "      <td>3230</td>\n",
       "      <td>M_ID_ad5237ef6b</td>\n",
       "      <td>688</td>\n",
       "      <td>2018-04-26 14:08:44</td>\n",
       "      <td>9</td>\n",
       "      <td>14</td>\n",
       "      <td>SEK</td>\n",
       "    </tr>\n",
       "    <tr>\n",
       "      <th>3</th>\n",
       "      <td>3</td>\n",
       "      <td>C_ID_415bb3a509</td>\n",
       "      <td>-1</td>\n",
       "      <td>5812</td>\n",
       "      <td>M_ID_9e84cda3b1</td>\n",
       "      <td>436</td>\n",
       "      <td>2018-03-07 09:43:21</td>\n",
       "      <td>-1</td>\n",
       "      <td>8</td>\n",
       "      <td>CAD</td>\n",
       "    </tr>\n",
       "    <tr>\n",
       "      <th>4</th>\n",
       "      <td>4</td>\n",
       "      <td>C_ID_ef55cf8d4b</td>\n",
       "      <td>-1</td>\n",
       "      <td>3839</td>\n",
       "      <td>M_ID_3c86fa3831</td>\n",
       "      <td>976</td>\n",
       "      <td>2018-03-22 21:07:53</td>\n",
       "      <td>-1</td>\n",
       "      <td>29</td>\n",
       "      <td>SEK</td>\n",
       "    </tr>\n",
       "  </tbody>\n",
       "</table>\n",
       "</div>"
      ],
      "text/plain": [
       "   Unnamed: 0          card_id  city_id  merchant_category_id  \\\n",
       "0           0  C_ID_415bb3a509      107                  3662   \n",
       "1           1  C_ID_415bb3a509      140                  3843   \n",
       "2           2  C_ID_415bb3a509      330                  3230   \n",
       "3           3  C_ID_415bb3a509       -1                  5812   \n",
       "4           4  C_ID_ef55cf8d4b       -1                  3839   \n",
       "\n",
       "       merchant_id  purchase_amount       purchase_date  state_id  \\\n",
       "0  M_ID_b0c793002c              191 2018-03-11 14:57:36         9   \n",
       "1  M_ID_88920c89e8              181 2018-03-19 18:53:37         9   \n",
       "2  M_ID_ad5237ef6b              688 2018-04-26 14:08:44         9   \n",
       "3  M_ID_9e84cda3b1              436 2018-03-07 09:43:21        -1   \n",
       "4  M_ID_3c86fa3831              976 2018-03-22 21:07:53        -1   \n",
       "\n",
       "   subsector_id currency  \n",
       "0            19      CHF  \n",
       "1            19      RUB  \n",
       "2            14      SEK  \n",
       "3             8      CAD  \n",
       "4            29      SEK  "
      ]
     },
     "execution_count": 8,
     "metadata": {},
     "output_type": "execute_result"
    }
   ],
   "source": [
    "df.head()"
   ]
  },
  {
   "cell_type": "code",
   "execution_count": 34,
   "id": "fa8ba616-df6d-4753-8220-13df8d50113e",
   "metadata": {},
   "outputs": [],
   "source": [
    "#fd = open('/Users/abcstark/Downloads/json_final.txt', 'a')\n",
    "l = []\n",
    "for i, row in df.head(100).iterrows():\n",
    "    #data = {\"transactions\":[{\"transactionId\":\"123\",\"mcc\": row['merchant_category_id'], \"amount\": {\"value\": row['purchase_amount'], \"currencyCode\": row['currency']}}]}\n",
    "    l.append({\"transactionId\":\"123\",\"mcc\": row['merchant_category_id'], \"amount\": {\"value\": row['purchase_amount'], \"currencyCode\": row['currency']}})\n",
    "    #f.write(str(data))\n",
    "    #print(str(data))\n",
    "#print(l)\n",
    "data = {\"transactions\": l}\n",
    "#fd.write(str(data))"
   ]
  },
  {
   "cell_type": "code",
   "execution_count": 11,
   "id": "f4074db4-e60c-437b-abc9-c17d7082db73",
   "metadata": {},
   "outputs": [
    {
     "name": "stdout",
     "output_type": "stream",
     "text": [
      "{'transactionId': '123', 'mcc': 3004, 'amount': {'value': 861, 'currencyCode': 'NZD'}}\n"
     ]
    }
   ],
   "source": [
    "print(l[100])"
   ]
  },
  {
   "cell_type": "code",
   "execution_count": 35,
   "id": "9ba9cbc5-c849-45bf-bfc7-c8baadee0e67",
   "metadata": {},
   "outputs": [],
   "source": [
    "import requests\n",
    "url = \"http://localhost:8080/demo/transaction-footprints\"\n",
    "res = requests.request(\"POST\", url, json= data, headers={'Content-Type':'application/json'})"
   ]
  },
  {
   "cell_type": "code",
   "execution_count": 36,
   "id": "2dd1d343-a280-4564-bd55-3e973463a918",
   "metadata": {},
   "outputs": [
    {
     "data": {
      "text/plain": [
       "<Response [200]>"
      ]
     },
     "execution_count": 36,
     "metadata": {},
     "output_type": "execute_result"
    }
   ],
   "source": [
    "res"
   ]
  },
  {
   "cell_type": "code",
   "execution_count": 19,
   "id": "7eb4f939-4b9f-4427-9866-489ace5fb9d8",
   "metadata": {},
   "outputs": [
    {
     "data": {
      "text/plain": [
       "{'transactionFootprints': [{'transactionId': '123',\n",
       "   'carbonEmissionInGrams': 45136.49,\n",
       "   'carbonEmissionInOunces': 1592.14,\n",
       "   'carbonSocialCost': {'value': 5.06, 'currencyCode': 'CHF'},\n",
       "   'waterUseInCubicMeters': 5.78,\n",
       "   'waterUseInGallons': 1527.34,\n",
       "   'waterUseSocialCost': {'value': 0.86, 'currencyCode': 'CHF'}},\n",
       "  {'transactionId': '123',\n",
       "   'carbonEmissionInGrams': 546.0,\n",
       "   'carbonEmissionInOunces': 19.26,\n",
       "   'carbonSocialCost': {'value': 4.8, 'currencyCode': 'RUB'},\n",
       "   'waterUseInCubicMeters': 0.07,\n",
       "   'waterUseInGallons': 18.48,\n",
       "   'waterUseSocialCost': {'value': 0.82, 'currencyCode': 'RUB'}}]}"
      ]
     },
     "execution_count": 19,
     "metadata": {},
     "output_type": "execute_result"
    }
   ],
   "source": [
    "res.json()"
   ]
  },
  {
   "cell_type": "code",
   "execution_count": 37,
   "id": "c9926e9b-ca20-4cfb-9eb0-fa4f392499fe",
   "metadata": {},
   "outputs": [
    {
     "data": {
      "text/plain": [
       "Unnamed: 0              1282\n",
       "card_id                 1282\n",
       "city_id                 1282\n",
       "merchant_category_id    1282\n",
       "merchant_id             1269\n",
       "purchase_amount         1282\n",
       "purchase_date           1282\n",
       "state_id                1282\n",
       "subsector_id            1282\n",
       "currency                1282\n",
       "dtype: int64"
      ]
     },
     "execution_count": 37,
     "metadata": {},
     "output_type": "execute_result"
    }
   ],
   "source": [
    "df.count()"
   ]
  },
  {
   "cell_type": "code",
   "execution_count": 39,
   "id": "656f44f3-974c-44b1-95e8-e8243df0a23e",
   "metadata": {},
   "outputs": [],
   "source": [
    "df = df.reset_index()"
   ]
  },
  {
   "cell_type": "code",
   "execution_count": 40,
   "id": "39d03651-2f8b-40da-bafe-26e07a08afb8",
   "metadata": {},
   "outputs": [
    {
     "data": {
      "text/html": [
       "<div>\n",
       "<style scoped>\n",
       "    .dataframe tbody tr th:only-of-type {\n",
       "        vertical-align: middle;\n",
       "    }\n",
       "\n",
       "    .dataframe tbody tr th {\n",
       "        vertical-align: top;\n",
       "    }\n",
       "\n",
       "    .dataframe thead th {\n",
       "        text-align: right;\n",
       "    }\n",
       "</style>\n",
       "<table border=\"1\" class=\"dataframe\">\n",
       "  <thead>\n",
       "    <tr style=\"text-align: right;\">\n",
       "      <th></th>\n",
       "      <th>index</th>\n",
       "      <th>Unnamed: 0</th>\n",
       "      <th>card_id</th>\n",
       "      <th>city_id</th>\n",
       "      <th>merchant_category_id</th>\n",
       "      <th>merchant_id</th>\n",
       "      <th>purchase_amount</th>\n",
       "      <th>purchase_date</th>\n",
       "      <th>state_id</th>\n",
       "      <th>subsector_id</th>\n",
       "      <th>currency</th>\n",
       "    </tr>\n",
       "  </thead>\n",
       "  <tbody>\n",
       "    <tr>\n",
       "      <th>0</th>\n",
       "      <td>0</td>\n",
       "      <td>0</td>\n",
       "      <td>C_ID_415bb3a509</td>\n",
       "      <td>107</td>\n",
       "      <td>3662</td>\n",
       "      <td>M_ID_b0c793002c</td>\n",
       "      <td>191</td>\n",
       "      <td>2018-03-11 14:57:36</td>\n",
       "      <td>9</td>\n",
       "      <td>19</td>\n",
       "      <td>CHF</td>\n",
       "    </tr>\n",
       "    <tr>\n",
       "      <th>1</th>\n",
       "      <td>1</td>\n",
       "      <td>1</td>\n",
       "      <td>C_ID_415bb3a509</td>\n",
       "      <td>140</td>\n",
       "      <td>3843</td>\n",
       "      <td>M_ID_88920c89e8</td>\n",
       "      <td>181</td>\n",
       "      <td>2018-03-19 18:53:37</td>\n",
       "      <td>9</td>\n",
       "      <td>19</td>\n",
       "      <td>RUB</td>\n",
       "    </tr>\n",
       "    <tr>\n",
       "      <th>2</th>\n",
       "      <td>2</td>\n",
       "      <td>2</td>\n",
       "      <td>C_ID_415bb3a509</td>\n",
       "      <td>330</td>\n",
       "      <td>3230</td>\n",
       "      <td>M_ID_ad5237ef6b</td>\n",
       "      <td>688</td>\n",
       "      <td>2018-04-26 14:08:44</td>\n",
       "      <td>9</td>\n",
       "      <td>14</td>\n",
       "      <td>SEK</td>\n",
       "    </tr>\n",
       "    <tr>\n",
       "      <th>3</th>\n",
       "      <td>3</td>\n",
       "      <td>3</td>\n",
       "      <td>C_ID_415bb3a509</td>\n",
       "      <td>-1</td>\n",
       "      <td>5812</td>\n",
       "      <td>M_ID_9e84cda3b1</td>\n",
       "      <td>436</td>\n",
       "      <td>2018-03-07 09:43:21</td>\n",
       "      <td>-1</td>\n",
       "      <td>8</td>\n",
       "      <td>CAD</td>\n",
       "    </tr>\n",
       "    <tr>\n",
       "      <th>4</th>\n",
       "      <td>4</td>\n",
       "      <td>4</td>\n",
       "      <td>C_ID_ef55cf8d4b</td>\n",
       "      <td>-1</td>\n",
       "      <td>3839</td>\n",
       "      <td>M_ID_3c86fa3831</td>\n",
       "      <td>976</td>\n",
       "      <td>2018-03-22 21:07:53</td>\n",
       "      <td>-1</td>\n",
       "      <td>29</td>\n",
       "      <td>SEK</td>\n",
       "    </tr>\n",
       "  </tbody>\n",
       "</table>\n",
       "</div>"
      ],
      "text/plain": [
       "   index  Unnamed: 0          card_id  city_id  merchant_category_id  \\\n",
       "0      0           0  C_ID_415bb3a509      107                  3662   \n",
       "1      1           1  C_ID_415bb3a509      140                  3843   \n",
       "2      2           2  C_ID_415bb3a509      330                  3230   \n",
       "3      3           3  C_ID_415bb3a509       -1                  5812   \n",
       "4      4           4  C_ID_ef55cf8d4b       -1                  3839   \n",
       "\n",
       "       merchant_id  purchase_amount       purchase_date  state_id  \\\n",
       "0  M_ID_b0c793002c              191 2018-03-11 14:57:36         9   \n",
       "1  M_ID_88920c89e8              181 2018-03-19 18:53:37         9   \n",
       "2  M_ID_ad5237ef6b              688 2018-04-26 14:08:44         9   \n",
       "3  M_ID_9e84cda3b1              436 2018-03-07 09:43:21        -1   \n",
       "4  M_ID_3c86fa3831              976 2018-03-22 21:07:53        -1   \n",
       "\n",
       "   subsector_id currency  \n",
       "0            19      CHF  \n",
       "1            19      RUB  \n",
       "2            14      SEK  \n",
       "3             8      CAD  \n",
       "4            29      SEK  "
      ]
     },
     "execution_count": 40,
     "metadata": {},
     "output_type": "execute_result"
    }
   ],
   "source": [
    "df.head()"
   ]
  },
  {
   "cell_type": "code",
   "execution_count": 45,
   "id": "0798b307-28d8-4e55-8d6d-df69d3a02643",
   "metadata": {},
   "outputs": [
    {
     "data": {
      "text/plain": [
       "107"
      ]
     },
     "execution_count": 45,
     "metadata": {},
     "output_type": "execute_result"
    }
   ],
   "source": [
    "df.iloc[0]['city_id']"
   ]
  },
  {
   "cell_type": "code",
   "execution_count": 49,
   "id": "1a413d45-b89f-40f5-970f-066334ef30ed",
   "metadata": {},
   "outputs": [
    {
     "data": {
      "text/plain": [
       "'3662'"
      ]
     },
     "execution_count": 49,
     "metadata": {},
     "output_type": "execute_result"
    }
   ],
   "source": [
    "str(df.iloc[i]['merchant_category_id'])"
   ]
  },
  {
   "cell_type": "code",
   "execution_count": 69,
   "id": "1a0d1484-527f-4383-8752-be7e55c72204",
   "metadata": {},
   "outputs": [
    {
     "name": "stdout",
     "output_type": "stream",
     "text": [
      "{'transactionFootprints': [{'transactionId': '123', 'carbonEmissionInGrams': 91638.85, 'carbonEmissionInOunces': 3232.47, 'carbonSocialCost': {'value': 13.89, 'currencyCode': 'CAD'}, 'waterUseInCubicMeters': 11.74, 'waterUseInGallons': 3100.9, 'waterUseSocialCost': {'value': 2.36, 'currencyCode': 'CAD'}}]}\n"
     ]
    }
   ],
   "source": [
    "#li = []\n",
    "#df1 = pd.DataFrame()\n",
    "df['carbonEmissionInGrams'] = None\n",
    "for i in range(0, 1282):\n",
    "    li = []\n",
    "    li.append({\"transactionId\":\"123\",\"mcc\": str(df.iloc[i]['merchant_category_id']), \"amount\": {\"value\": str(df.iloc[i]['purchase_amount']), \"currencyCode\": str(df.iloc[i]['currency'])}})\n",
    "    data = {\"transactions\": li}\n",
    "    \n",
    "    res = requests.request(\"POST\", url, json= data, headers={'Content-Type':'application/json'})\n",
    "    #print(i)\n",
    "    if i == 21:\n",
    "        print(res.json())\n",
    "    #print(res.json()['transactionFootprints'][0]['carbonEmissionInGrams'])\n",
    "    if 'transactionFootprints' in res.json():\n",
    "        df.loc[i, ['carbonEmissionInGrams']] = res.json()['transactionFootprints'][0]['carbonEmissionInGrams']"
   ]
  },
  {
   "cell_type": "code",
   "execution_count": 71,
   "id": "5e16c775-0134-4494-8b80-b4250597aed6",
   "metadata": {},
   "outputs": [
    {
     "data": {
      "text/html": [
       "<div>\n",
       "<style scoped>\n",
       "    .dataframe tbody tr th:only-of-type {\n",
       "        vertical-align: middle;\n",
       "    }\n",
       "\n",
       "    .dataframe tbody tr th {\n",
       "        vertical-align: top;\n",
       "    }\n",
       "\n",
       "    .dataframe thead th {\n",
       "        text-align: right;\n",
       "    }\n",
       "</style>\n",
       "<table border=\"1\" class=\"dataframe\">\n",
       "  <thead>\n",
       "    <tr style=\"text-align: right;\">\n",
       "      <th></th>\n",
       "      <th>index</th>\n",
       "      <th>Unnamed: 0</th>\n",
       "      <th>card_id</th>\n",
       "      <th>city_id</th>\n",
       "      <th>merchant_category_id</th>\n",
       "      <th>merchant_id</th>\n",
       "      <th>purchase_amount</th>\n",
       "      <th>purchase_date</th>\n",
       "      <th>state_id</th>\n",
       "      <th>subsector_id</th>\n",
       "      <th>currency</th>\n",
       "      <th>carbonEmissionInGrams</th>\n",
       "    </tr>\n",
       "  </thead>\n",
       "  <tbody>\n",
       "    <tr>\n",
       "      <th>0</th>\n",
       "      <td>0</td>\n",
       "      <td>0</td>\n",
       "      <td>C_ID_415bb3a509</td>\n",
       "      <td>107</td>\n",
       "      <td>3662</td>\n",
       "      <td>M_ID_b0c793002c</td>\n",
       "      <td>191</td>\n",
       "      <td>2018-03-11 14:57:36</td>\n",
       "      <td>9</td>\n",
       "      <td>19</td>\n",
       "      <td>CHF</td>\n",
       "      <td>45136.49</td>\n",
       "    </tr>\n",
       "    <tr>\n",
       "      <th>1</th>\n",
       "      <td>1</td>\n",
       "      <td>1</td>\n",
       "      <td>C_ID_415bb3a509</td>\n",
       "      <td>140</td>\n",
       "      <td>3843</td>\n",
       "      <td>M_ID_88920c89e8</td>\n",
       "      <td>181</td>\n",
       "      <td>2018-03-19 18:53:37</td>\n",
       "      <td>9</td>\n",
       "      <td>19</td>\n",
       "      <td>RUB</td>\n",
       "      <td>546.0</td>\n",
       "    </tr>\n",
       "    <tr>\n",
       "      <th>2</th>\n",
       "      <td>2</td>\n",
       "      <td>2</td>\n",
       "      <td>C_ID_415bb3a509</td>\n",
       "      <td>330</td>\n",
       "      <td>3230</td>\n",
       "      <td>M_ID_ad5237ef6b</td>\n",
       "      <td>688</td>\n",
       "      <td>2018-04-26 14:08:44</td>\n",
       "      <td>9</td>\n",
       "      <td>14</td>\n",
       "      <td>SEK</td>\n",
       "      <td>96378.72</td>\n",
       "    </tr>\n",
       "    <tr>\n",
       "      <th>3</th>\n",
       "      <td>3</td>\n",
       "      <td>3</td>\n",
       "      <td>C_ID_415bb3a509</td>\n",
       "      <td>-1</td>\n",
       "      <td>5812</td>\n",
       "      <td>M_ID_9e84cda3b1</td>\n",
       "      <td>436</td>\n",
       "      <td>2018-03-07 09:43:21</td>\n",
       "      <td>-1</td>\n",
       "      <td>8</td>\n",
       "      <td>CAD</td>\n",
       "      <td>136253.86</td>\n",
       "    </tr>\n",
       "    <tr>\n",
       "      <th>4</th>\n",
       "      <td>4</td>\n",
       "      <td>4</td>\n",
       "      <td>C_ID_ef55cf8d4b</td>\n",
       "      <td>-1</td>\n",
       "      <td>3839</td>\n",
       "      <td>M_ID_3c86fa3831</td>\n",
       "      <td>976</td>\n",
       "      <td>2018-03-22 21:07:53</td>\n",
       "      <td>-1</td>\n",
       "      <td>29</td>\n",
       "      <td>SEK</td>\n",
       "      <td>25217.61</td>\n",
       "    </tr>\n",
       "  </tbody>\n",
       "</table>\n",
       "</div>"
      ],
      "text/plain": [
       "   index  Unnamed: 0          card_id  city_id  merchant_category_id  \\\n",
       "0      0           0  C_ID_415bb3a509      107                  3662   \n",
       "1      1           1  C_ID_415bb3a509      140                  3843   \n",
       "2      2           2  C_ID_415bb3a509      330                  3230   \n",
       "3      3           3  C_ID_415bb3a509       -1                  5812   \n",
       "4      4           4  C_ID_ef55cf8d4b       -1                  3839   \n",
       "\n",
       "       merchant_id  purchase_amount       purchase_date  state_id  \\\n",
       "0  M_ID_b0c793002c              191 2018-03-11 14:57:36         9   \n",
       "1  M_ID_88920c89e8              181 2018-03-19 18:53:37         9   \n",
       "2  M_ID_ad5237ef6b              688 2018-04-26 14:08:44         9   \n",
       "3  M_ID_9e84cda3b1              436 2018-03-07 09:43:21        -1   \n",
       "4  M_ID_3c86fa3831              976 2018-03-22 21:07:53        -1   \n",
       "\n",
       "   subsector_id currency carbonEmissionInGrams  \n",
       "0            19      CHF              45136.49  \n",
       "1            19      RUB                 546.0  \n",
       "2            14      SEK              96378.72  \n",
       "3             8      CAD             136253.86  \n",
       "4            29      SEK              25217.61  "
      ]
     },
     "execution_count": 71,
     "metadata": {},
     "output_type": "execute_result"
    }
   ],
   "source": [
    "df.head()"
   ]
  },
  {
   "cell_type": "code",
   "execution_count": 73,
   "id": "92f24dc1-9534-4f59-b750-ece84eb184ca",
   "metadata": {},
   "outputs": [],
   "source": [
    "df.to_csv('/Users/abcstark/Downloads/final_carbon_csv.csv')"
   ]
  },
  {
   "cell_type": "code",
   "execution_count": 74,
   "id": "76d3253f-8dd1-4c86-a2cc-a12041844cdf",
   "metadata": {},
   "outputs": [],
   "source": [
    "df.to_excel('/Users/abcstark/Downloads/final_carbon_excel.xlsx')"
   ]
  },
  {
   "cell_type": "code",
   "execution_count": 78,
   "id": "a8e605cc-188b-4780-bbac-e7bd540f3f11",
   "metadata": {},
   "outputs": [
    {
     "data": {
      "text/plain": [
       "index                     0\n",
       "Unnamed: 0                0\n",
       "card_id                   0\n",
       "city_id                   0\n",
       "merchant_category_id      0\n",
       "merchant_id              13\n",
       "purchase_amount           0\n",
       "purchase_date             0\n",
       "state_id                  0\n",
       "subsector_id              0\n",
       "currency                  0\n",
       "carbonEmissionInGrams     4\n",
       "dtype: int64"
      ]
     },
     "execution_count": 78,
     "metadata": {},
     "output_type": "execute_result"
    }
   ],
   "source": [
    "df.isna().sum()"
   ]
  },
  {
   "cell_type": "code",
   "execution_count": null,
   "id": "fbd49687-31a8-4339-bd0a-dec98b2ea6b3",
   "metadata": {},
   "outputs": [],
   "source": []
  }
 ],
 "metadata": {
  "kernelspec": {
   "display_name": "Python 3 (ipykernel)",
   "language": "python",
   "name": "python3"
  },
  "language_info": {
   "codemirror_mode": {
    "name": "ipython",
    "version": 3
   },
   "file_extension": ".py",
   "mimetype": "text/x-python",
   "name": "python",
   "nbconvert_exporter": "python",
   "pygments_lexer": "ipython3",
   "version": "3.10.5"
  }
 },
 "nbformat": 4,
 "nbformat_minor": 5
}
